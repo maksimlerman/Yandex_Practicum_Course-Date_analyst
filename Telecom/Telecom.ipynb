{
 "cells": [
  {
   "cell_type": "markdown",
   "metadata": {
    "toc": true
   },
   "source": [
    "<h1>Table of Contents<span class=\"tocSkip\"></span></h1>\n",
    "<div class=\"toc\"><ul class=\"toc-item\"><li><span><a href=\"#Первичный-анализ-данных\" data-toc-modified-id=\"Первичный-анализ-данных-1\"><span class=\"toc-item-num\">1&nbsp;&nbsp;</span>Первичный анализ данных</a></span><ul class=\"toc-item\"><li><span><a href=\"#Загрузка-данных,-типы-данных,-пропуски,-дубликаты\" data-toc-modified-id=\"Загрузка-данных,-типы-данных,-пропуски,-дубликаты-1.1\"><span class=\"toc-item-num\">1.1&nbsp;&nbsp;</span>Загрузка данных, типы данных, пропуски, дубликаты</a></span><ul class=\"toc-item\"><li><span><a href=\"#Таблица-данных-о-клиентах-clients\" data-toc-modified-id=\"Таблица-данных-о-клиентах-clients-1.1.1\"><span class=\"toc-item-num\">1.1.1&nbsp;&nbsp;</span>Таблица данных о клиентах <strong>clients</strong></a></span></li><li><span><a href=\"#Таблица-данных-о-звонках-data\" data-toc-modified-id=\"Таблица-данных-о-звонках-data-1.1.2\"><span class=\"toc-item-num\">1.1.2&nbsp;&nbsp;</span>Таблица данных о звонках <strong>data</strong></a></span></li></ul></li><li><span><a href=\"#Исследование-аномалий\" data-toc-modified-id=\"Исследование-аномалий-1.2\"><span class=\"toc-item-num\">1.2&nbsp;&nbsp;</span>Исследование аномалий</a></span><ul class=\"toc-item\"><li><span><a href=\"#Колонка-calls_count\" data-toc-modified-id=\"Колонка-calls_count-1.2.1\"><span class=\"toc-item-num\">1.2.1&nbsp;&nbsp;</span>Колонка calls_count</a></span></li><li><span><a href=\"#Колонки-call_duration-и-total_call_duration\" data-toc-modified-id=\"Колонки-call_duration-и-total_call_duration-1.2.2\"><span class=\"toc-item-num\">1.2.2&nbsp;&nbsp;</span>Колонки call_duration и total_call_duration</a></span></li></ul></li><li><span><a href=\"#Обработка-пропусков-в-колонке-operator_id\" data-toc-modified-id=\"Обработка-пропусков-в-колонке-operator_id-1.3\"><span class=\"toc-item-num\">1.3&nbsp;&nbsp;</span>Обработка пропусков в колонке operator_id</a></span></li></ul></li><li><span><a href=\"#Определение-неэффективных-операторв\" data-toc-modified-id=\"Определение-неэффективных-операторв-2\"><span class=\"toc-item-num\">2&nbsp;&nbsp;</span>Определение неэффективных операторв</a></span><ul class=\"toc-item\"><li><span><a href=\"#Разделение-кол-центров-по-специализации\" data-toc-modified-id=\"Разделение-кол-центров-по-специализации-2.1\"><span class=\"toc-item-num\">2.1&nbsp;&nbsp;</span>Разделение кол-центров по специализации</a></span></li><li><span><a href=\"#Определение-эффективности-операторов-колцентров,-принимающих-звонки\" data-toc-modified-id=\"Определение-эффективности-операторов-колцентров,-принимающих-звонки-2.2\"><span class=\"toc-item-num\">2.2&nbsp;&nbsp;</span>Определение эффективности операторов колцентров, принимающих звонки</a></span><ul class=\"toc-item\"><li><span><a href=\"#Оценка-доли-пропущенных-звонков\" data-toc-modified-id=\"Оценка-доли-пропущенных-звонков-2.2.1\"><span class=\"toc-item-num\">2.2.1&nbsp;&nbsp;</span>Оценка доли пропущенных звонков</a></span></li><li><span><a href=\"#Оценка-времени-ожидания\" data-toc-modified-id=\"Оценка-времени-ожидания-2.2.2\"><span class=\"toc-item-num\">2.2.2&nbsp;&nbsp;</span>Оценка времени ожидания</a></span></li></ul></li><li><span><a href=\"#Определение-эффективности-операторов-колцентров,-совершающих-звонки\" data-toc-modified-id=\"Определение-эффективности-операторов-колцентров,-совершающих-звонки-2.3\"><span class=\"toc-item-num\">2.3&nbsp;&nbsp;</span>Определение эффективности операторов колцентров, совершающих звонки</a></span></li><li><span><a href=\"#Вывод-по-определению-неэффективных-операторв\" data-toc-modified-id=\"Вывод-по-определению-неэффективных-операторв-2.4\"><span class=\"toc-item-num\">2.4&nbsp;&nbsp;</span>Вывод по определению неэффективных операторв</a></span></li></ul></li><li><span><a href=\"#Проверка-статистических-гипотез\" data-toc-modified-id=\"Проверка-статистических-гипотез-3\"><span class=\"toc-item-num\">3&nbsp;&nbsp;</span>Проверка статистических гипотез</a></span><ul class=\"toc-item\"><li><span><a href=\"#Время-разговора-при-входящих-и-исходящих-звонках\" data-toc-modified-id=\"Время-разговора-при-входящих-и-исходящих-звонках-3.1\"><span class=\"toc-item-num\">3.1&nbsp;&nbsp;</span>Время разговора при входящих и исходящих звонках</a></span></li><li><span><a href=\"#Количество-звонков-на-одного-оператора\" data-toc-modified-id=\"Количество-звонков-на-одного-оператора-3.2\"><span class=\"toc-item-num\">3.2&nbsp;&nbsp;</span>Количество звонков на одного оператора</a></span></li></ul></li><li><span><a href=\"#Общий-вывод\" data-toc-modified-id=\"Общий-вывод-4\"><span class=\"toc-item-num\">4&nbsp;&nbsp;</span>Общий вывод</a></span></li></ul></div>"
   ]
  },
  {
   "cell_type": "markdown",
   "metadata": {},
   "source": [
    "**Ссылка на презентацию:**\n",
    "\n",
    "https://disk.yandex.ru/i/2Ht6nUb1w5AsPg\n",
    "\n",
    "**Ссылка на dashboard:**\n",
    "\n",
    "https://public.tableau.com/views/telecom_16628338688160/Dashboard1?:language=en-US&:display_count=n&:origin=viz_share_link"
   ]
  },
  {
   "cell_type": "markdown",
   "metadata": {},
   "source": [
    "# <p style='text-align: center;'> Оценка работы опреаторов колл-центров </p><a class=\"tocSkip\">\n",
    "    \n",
    "\n",
    "Необходимо дополнить сервис «Нупозвони» возможностью определения неэффективных операторов. Признаки низкой эффективности:\n",
    "\n",
    "- много пропущенных входящих вызовов,\n",
    "- долгое ожидания ответа при входящих внешних вызовах,\n",
    "- мало исходящих вывозов — в случае тех колл-центров, что специализируются на обзвонах, а не обработке входящих звонков.\n",
    "\n",
    "\n",
    "\n",
    "**Описание данных:**\n",
    "\n",
    "Датасеты описывают использование услуг «Нупозвони» — провайдера виртуальный телефонии. Его клиенты — колл-центры, которые: \n",
    "\n",
    "- распределяют входящие вызовы на операторов,\n",
    "- совершают исходящие вызовы силами операторов.\n",
    "\n",
    "Также операторы могут делать внутренние вызовы —  вызовы друг между другом внутри сети виртуальной телефонии.\n",
    "\n",
    "Колонки в `telecom_dataset.csv.zip`:\n",
    "\n",
    "- `user_id` — Идентификатор клиентского аккаунта в сервисе\n",
    "- `date` — Дата статистики\n",
    "- `direction` — Направление вызовов (out - исходящий вызов, in — входящий вызов)\n",
    "- `internal` — Является ли звонок внутренним звонком между операторами клиента\n",
    "- `operator_id` — Идентификатор оператора\n",
    "- `is_missed_call` — Является ли звонок пропущенным\n",
    "- `calls_count` — Количество звонков\n",
    "- `call_duration` — Длительность звонка (без учета времени ожидания)\n",
    "- `total_call_duration` — Длительность звонка (с учетом времени ожидания)\n",
    "\n",
    "Колонки в `telecom_clients.csv`:\n",
    "\n",
    "- `user_id` — Идентификатор клиентского аккаунта в сервисе\n",
    "- `tariff_plan` — Текущий тарифный план клиента\n",
    "- `date_start` — Дата регистрации клиентв в сервисе\n",
    "\n",
    "\n",
    "**Провести первичный анализ данных.**\n",
    "\n",
    "* Рассмотреть и при необходимости изменить типы данных\n",
    "* Оценить имеющиеся данные на предмет наличия пропусков и дубликатов\n",
    "* Проверить наличие аномалий и при наличии обработать их.\n",
    "\n",
    "\n",
    "\n",
    "**Провести исследовательский анализ данных.**\n",
    "\n",
    "* Изучить таблицу с данными о клиентах. Оценить распределение колцентров по тарифам, посмотреть как распределена регистрация клиентов в сервисе по времени.\n",
    "* Изучить таблицу с данными о звонках. Выяснить, по какому принципу агрегированы звонки.\n",
    "* Оценить логику заполнения таблицы и выявить нестыковки (например, \n",
    "\n",
    "  ненулевое значение call_duration для пропущенных звонков; \n",
    "  \n",
    "  значение call_duration, превышающее total_call_duration \n",
    "  \n",
    "  и т.д.)\n",
    "    \n",
    "\n",
    "Определение неэффективных операторов.\n",
    "* Определить для каждого кол-центра количество исходящих и входящих звонков.\n",
    "* Разделить колл-центры на две группы – кол-центры, обрабатывающие входящие звонки и колл-центры, совершающие обзвоны клиентов.\n",
    "* Для колл-центров, ориентированных на входящие звонки оценить долю пропущенных входящих вызовов.\n",
    "  * Для каждого оператора таких колл-центров рассчитать долю пропущенных звонков от всех входящих звонков.\n",
    "  * Оценить распределение этой величины среди операторов.\n",
    "  * Определить среднюю, медианную долю пропущенных звонков и выбрать пороговое значение этой доли при превышении которой можно говорить о том, что оператор пропускает слишком много звонков.\n",
    "  * Определить этих операторов и колл-центры, в которых они работают.\n",
    "* Для колл-центров, ориентированных на входящие звонки оценить время ожидания ответа при входящих внешних вызовах.\n",
    "  * Для каждого оператора таких колл-центров рассчитать среднее время ожидания ответа.\n",
    "  * Оценить распределение этой величины среди операторов.\n",
    "  * Вычислить среднее, медианное время ожидания ответа и выбрать пороговое значение, при превышении которого можно говорить о том, что оператор слишком долго не берет трубку.\n",
    "  * Определить этих операторов и колл-центры, в которых они работают.\n",
    "* Для колл-центров, ориентированных на обзвон абонентской базы оценить количество исходящих вывозов.\n",
    "  * Для каждого оператора таких колл-центров рассчитать среднее количество исходящих вывозов.\n",
    "  * Оценить распределение этой величины среди операторов.\n",
    "  * Вычислить среднее, медианное количество исходящих вывозов и выбрать пороговое значение, при превышении которого можно говорить о том, что оператор совершает слишком мало звонков.\n",
    "  * Определить этих операторов и колл-центры, в которых они работают.\n",
    "\n",
    "\n",
    "В качестве порога, возможно, будем использовать перцентиль. Например, выберем значение доли пропущенных вызовов, для которого справедливо утверждение: у (10%, например) всех операторов доля пропущенных звонков превышает это значение. Тем самым, у операторов нет стимула занижать среднее значение пропущенных вызовов. В любом случае будут 10% с самой высокой долей пропусков, какая бы ни была средняя величина. Считаю такой подход оправданным, поскольку нам неизвестна норма по обзвону в день. У каждого КЦ она может быть своя.\n",
    "\n",
    "\n",
    "Клиент (менеджер КЦ), выгрузив данные за определенный период, сможет видеть среднюю величину пропущенных звонков, среднее время ожидания ответа, среднее количество исходящих звонков. Он сможет внедрять какие-либо механизмы стимулирования и оценивать эти величины вновь. Таким образом отслеживать свое влияние на эффективность\n",
    "\n",
    "\n",
    "**Проверка статистических гипотез.**\n",
    "\n",
    "\n",
    "1.\tУ всех КЦ, без разделения на специализацию, среднее время разговора при входящих звонках отличается от среднего времени разговора при исходящих.\n",
    "2.\tУ КЦ, специализирующихся на входящих звонках, количество внутренних звонков, приходящихся на одного оператора в день отличается от количества внешних звонков, приходящихся на одного оператора в день.\n",
    "\n",
    "    "
   ]
  },
  {
   "cell_type": "code",
   "execution_count": 1,
   "metadata": {},
   "outputs": [],
   "source": [
    "import warnings\n",
    "warnings.filterwarnings('ignore')\n",
    "import pandas as pd\n",
    "import numpy as np\n",
    "from pandas import Series\n",
    "import matplotlib.pyplot as plt\n",
    "pd.set_option(\"display.max_columns\", None)\n",
    "pd.set_option('max_colwidth', 120)\n",
    "pd.set_option('display.width', 500)\n",
    "\n",
    "\n",
    "import seaborn as sns\n",
    "sns.set(style=\"darkgrid\")\n",
    "\n",
    "\n",
    "import statsmodels\n",
    "from statsmodels.stats.stattools import medcouple\n",
    "\n",
    "from scipy import stats as st\n",
    "import math as mth\n",
    "\n",
    "%matplotlib inline"
   ]
  },
  {
   "cell_type": "markdown",
   "metadata": {},
   "source": [
    "## Первичный анализ данных\n",
    "\n",
    "### Загрузка данных, типы данных, пропуски, дубликаты"
   ]
  },
  {
   "cell_type": "code",
   "execution_count": 2,
   "metadata": {},
   "outputs": [],
   "source": [
    "try:\n",
    "    clients = pd.read_csv(r'C:\\Intel\\telecom_clients.csv') # personal path\n",
    "    data = pd.read_csv(r'C:\\Intel\\telecom_dataset.csv') # personal path    \n",
    "except:\n",
    "    clients = pd.read_csv('https://code.s3.yandex.net/datasets/telecom_clients.csv')# Yandex path\n",
    "    data = pd.read_csv('https://code.s3.yandex.net/datasets/telecom_dataset.csv')# Yandex path"
   ]
  },
  {
   "cell_type": "markdown",
   "metadata": {},
   "source": [
    "#### Таблица данных о клиентах **clients**"
   ]
  },
  {
   "cell_type": "code",
   "execution_count": 3,
   "metadata": {},
   "outputs": [
    {
     "name": "stdout",
     "output_type": "stream",
     "text": [
      "<class 'pandas.core.frame.DataFrame'>\n",
      "RangeIndex: 732 entries, 0 to 731\n",
      "Data columns (total 3 columns):\n",
      "user_id        732 non-null int64\n",
      "tariff_plan    732 non-null object\n",
      "date_start     732 non-null object\n",
      "dtypes: int64(1), object(2)\n",
      "memory usage: 17.2+ KB\n",
      "None\n"
     ]
    },
    {
     "data": {
      "text/html": [
       "<div>\n",
       "<style scoped>\n",
       "    .dataframe tbody tr th:only-of-type {\n",
       "        vertical-align: middle;\n",
       "    }\n",
       "\n",
       "    .dataframe tbody tr th {\n",
       "        vertical-align: top;\n",
       "    }\n",
       "\n",
       "    .dataframe thead th {\n",
       "        text-align: right;\n",
       "    }\n",
       "</style>\n",
       "<table border=\"1\" class=\"dataframe\">\n",
       "  <thead>\n",
       "    <tr style=\"text-align: right;\">\n",
       "      <th></th>\n",
       "      <th>user_id</th>\n",
       "      <th>tariff_plan</th>\n",
       "      <th>date_start</th>\n",
       "    </tr>\n",
       "  </thead>\n",
       "  <tbody>\n",
       "    <tr>\n",
       "      <th>0</th>\n",
       "      <td>166713</td>\n",
       "      <td>A</td>\n",
       "      <td>2019-08-15</td>\n",
       "    </tr>\n",
       "    <tr>\n",
       "      <th>1</th>\n",
       "      <td>166901</td>\n",
       "      <td>A</td>\n",
       "      <td>2019-08-23</td>\n",
       "    </tr>\n",
       "    <tr>\n",
       "      <th>2</th>\n",
       "      <td>168527</td>\n",
       "      <td>A</td>\n",
       "      <td>2019-10-29</td>\n",
       "    </tr>\n",
       "    <tr>\n",
       "      <th>3</th>\n",
       "      <td>167097</td>\n",
       "      <td>A</td>\n",
       "      <td>2019-09-01</td>\n",
       "    </tr>\n",
       "    <tr>\n",
       "      <th>4</th>\n",
       "      <td>168193</td>\n",
       "      <td>A</td>\n",
       "      <td>2019-10-16</td>\n",
       "    </tr>\n",
       "  </tbody>\n",
       "</table>\n",
       "</div>"
      ],
      "text/plain": [
       "   user_id tariff_plan  date_start\n",
       "0   166713           A  2019-08-15\n",
       "1   166901           A  2019-08-23\n",
       "2   168527           A  2019-10-29\n",
       "3   167097           A  2019-09-01\n",
       "4   168193           A  2019-10-16"
      ]
     },
     "execution_count": 3,
     "metadata": {},
     "output_type": "execute_result"
    }
   ],
   "source": [
    "print(clients.info())\n",
    "clients.head()"
   ]
  },
  {
   "cell_type": "markdown",
   "metadata": {},
   "source": [
    "Поскольку в колонке datetime указана дата, лучше привести данные к типу datetime"
   ]
  },
  {
   "cell_type": "code",
   "execution_count": 4,
   "metadata": {},
   "outputs": [],
   "source": [
    "# колонку date_start приводим к типу datetime\n",
    "clients.date_start = pd.to_datetime(clients.date_start).dt.date"
   ]
  },
  {
   "cell_type": "code",
   "execution_count": 5,
   "metadata": {},
   "outputs": [
    {
     "name": "stdout",
     "output_type": "stream",
     "text": [
      "Явных дубликатов в таблице clients: 0\n"
     ]
    },
    {
     "data": {
      "text/html": [
       "<div>\n",
       "<style scoped>\n",
       "    .dataframe tbody tr th:only-of-type {\n",
       "        vertical-align: middle;\n",
       "    }\n",
       "\n",
       "    .dataframe tbody tr th {\n",
       "        vertical-align: top;\n",
       "    }\n",
       "\n",
       "    .dataframe thead th {\n",
       "        text-align: right;\n",
       "    }\n",
       "</style>\n",
       "<table border=\"1\" class=\"dataframe\">\n",
       "  <thead>\n",
       "    <tr style=\"text-align: right;\">\n",
       "      <th></th>\n",
       "      <th>count_mising</th>\n",
       "      <th>percent_missing</th>\n",
       "    </tr>\n",
       "  </thead>\n",
       "  <tbody>\n",
       "  </tbody>\n",
       "</table>\n",
       "</div>"
      ],
      "text/plain": [
       "Empty DataFrame\n",
       "Columns: [count_mising, percent_missing]\n",
       "Index: []"
      ]
     },
     "execution_count": 5,
     "metadata": {},
     "output_type": "execute_result"
    }
   ],
   "source": [
    "def nan_values(df):  \n",
    "# Эта функция ищет пропуски в данных.\n",
    "\n",
    "# На вход функция принимает датафрейм. \n",
    "# На выходе выдает таблицу, в которой построчно указано сколько пропусков имеется в колонках фрейма\n",
    "# в абсолютном выражении и в процентах от общего числа строк\n",
    "\n",
    "    count_mising = df.isna().sum()\n",
    "    percent_missing = round(count_mising * 100 / len(df), 2)\n",
    "    missing_values_df = pd.DataFrame({'count_mising':count_mising,\n",
    "                                      'percent_missing':percent_missing})\n",
    "    return missing_values_df.query('count_mising != 0')\n",
    "\n",
    "print('Явных дубликатов в таблице clients:', clients.duplicated().sum())\n",
    "nan_values(clients)"
   ]
  },
  {
   "cell_type": "markdown",
   "metadata": {},
   "source": [
    "Посмотрим, как распределены клиенты по дате регистрации в сервисе"
   ]
  },
  {
   "cell_type": "code",
   "execution_count": 6,
   "metadata": {},
   "outputs": [
    {
     "data": {
      "text/plain": [
       "<matplotlib.axes._subplots.AxesSubplot at 0xb7f5f98>"
      ]
     },
     "execution_count": 6,
     "metadata": {},
     "output_type": "execute_result"
    },
    {
     "data": {
      "image/png": "[encoded data removed]",
      "text/plain": [
       "<Figure size 1080x576 with 1 Axes>"
      ]
     },
     "metadata": {
      "needs_background": "light"
     },
     "output_type": "display_data"
    }
   ],
   "source": [
    "pivot_clients = pd.DataFrame(clients.groupby('date_start')['user_id'].agg('count'))\n",
    "pivot_clients.columns = ['new_clients_count']\n",
    "pivot_clients.plot(kind='bar',\n",
    "                   figsize=(15,8),\n",
    "                   title='Распределение клиентов по дате регистрации в сервисе')"
   ]
  },
  {
   "cell_type": "markdown",
   "metadata": {},
   "source": [
    "И как они распределены по тарифам"
   ]
  },
  {
   "cell_type": "code",
   "execution_count": 7,
   "metadata": {},
   "outputs": [
    {
     "data": {
      "text/plain": [
       "<matplotlib.axes._subplots.AxesSubplot at 0xbcf7dd8>"
      ]
     },
     "execution_count": 7,
     "metadata": {},
     "output_type": "execute_result"
    },
    {
     "data": {
      "image/png": "[encoded data removed]",
      "text/plain": [
       "<Figure size 360x216 with 1 Axes>"
      ]
     },
     "metadata": {
      "needs_background": "light"
     },
     "output_type": "display_data"
    }
   ],
   "source": [
    "pivot_clients = pd.DataFrame(clients.groupby('tariff_plan')['user_id'].agg('count'))\n",
    "pivot_clients.columns = ['tarif_clients_count']\n",
    "pivot_clients.plot(kind='barh',\n",
    "                   figsize=(5,3),\n",
    "                   title='Распределение клиентов по тарифам')"
   ]
  },
  {
   "cell_type": "markdown",
   "metadata": {},
   "source": [
    "#### Таблица данных о звонках **data**"
   ]
  },
  {
   "cell_type": "code",
   "execution_count": 8,
   "metadata": {},
   "outputs": [
    {
     "name": "stdout",
     "output_type": "stream",
     "text": [
      "<class 'pandas.core.frame.DataFrame'>\n",
      "RangeIndex: 53902 entries, 0 to 53901\n",
      "Data columns (total 9 columns):\n",
      "user_id                53902 non-null int64\n",
      "date                   53902 non-null object\n",
      "direction              53902 non-null object\n",
      "internal               53785 non-null object\n",
      "operator_id            45730 non-null float64\n",
      "is_missed_call         53902 non-null bool\n",
      "calls_count            53902 non-null int64\n",
      "call_duration          53902 non-null int64\n",
      "total_call_duration    53902 non-null int64\n",
      "dtypes: bool(1), float64(1), int64(4), object(3)\n",
      "memory usage: 3.3+ MB\n"
     ]
    },
    {
     "data": {
      "text/plain": [
       "None"
      ]
     },
     "metadata": {},
     "output_type": "display_data"
    },
    {
     "data": {
      "text/html": [
       "<div>\n",
       "<style scoped>\n",
       "    .dataframe tbody tr th:only-of-type {\n",
       "        vertical-align: middle;\n",
       "    }\n",
       "\n",
       "    .dataframe tbody tr th {\n",
       "        vertical-align: top;\n",
       "    }\n",
       "\n",
       "    .dataframe thead th {\n",
       "        text-align: right;\n",
       "    }\n",
       "</style>\n",
       "<table border=\"1\" class=\"dataframe\">\n",
       "  <thead>\n",
       "    <tr style=\"text-align: right;\">\n",
       "      <th></th>\n",
       "      <th>user_id</th>\n",
       "      <th>date</th>\n",
       "      <th>direction</th>\n",
       "      <th>internal</th>\n",
       "      <th>operator_id</th>\n",
       "      <th>is_missed_call</th>\n",
       "      <th>calls_count</th>\n",
       "      <th>call_duration</th>\n",
       "      <th>total_call_duration</th>\n",
       "    </tr>\n",
       "  </thead>\n",
       "  <tbody>\n",
       "    <tr>\n",
       "      <th>0</th>\n",
       "      <td>166377</td>\n",
       "      <td>2019-08-04 00:00:00+03:00</td>\n",
       "      <td>in</td>\n",
       "      <td>False</td>\n",
       "      <td>NaN</td>\n",
       "      <td>True</td>\n",
       "      <td>2</td>\n",
       "      <td>0</td>\n",
       "      <td>4</td>\n",
       "    </tr>\n",
       "    <tr>\n",
       "      <th>1</th>\n",
       "      <td>166377</td>\n",
       "      <td>2019-08-05 00:00:00+03:00</td>\n",
       "      <td>out</td>\n",
       "      <td>True</td>\n",
       "      <td>880022.0</td>\n",
       "      <td>True</td>\n",
       "      <td>3</td>\n",
       "      <td>0</td>\n",
       "      <td>5</td>\n",
       "    </tr>\n",
       "    <tr>\n",
       "      <th>2</th>\n",
       "      <td>166377</td>\n",
       "      <td>2019-08-05 00:00:00+03:00</td>\n",
       "      <td>out</td>\n",
       "      <td>True</td>\n",
       "      <td>880020.0</td>\n",
       "      <td>True</td>\n",
       "      <td>1</td>\n",
       "      <td>0</td>\n",
       "      <td>1</td>\n",
       "    </tr>\n",
       "    <tr>\n",
       "      <th>3</th>\n",
       "      <td>166377</td>\n",
       "      <td>2019-08-05 00:00:00+03:00</td>\n",
       "      <td>out</td>\n",
       "      <td>True</td>\n",
       "      <td>880020.0</td>\n",
       "      <td>False</td>\n",
       "      <td>1</td>\n",
       "      <td>10</td>\n",
       "      <td>18</td>\n",
       "    </tr>\n",
       "    <tr>\n",
       "      <th>4</th>\n",
       "      <td>166377</td>\n",
       "      <td>2019-08-05 00:00:00+03:00</td>\n",
       "      <td>out</td>\n",
       "      <td>False</td>\n",
       "      <td>880022.0</td>\n",
       "      <td>True</td>\n",
       "      <td>3</td>\n",
       "      <td>0</td>\n",
       "      <td>25</td>\n",
       "    </tr>\n",
       "  </tbody>\n",
       "</table>\n",
       "</div>"
      ],
      "text/plain": [
       "   user_id                       date direction internal  operator_id  is_missed_call  calls_count  call_duration  total_call_duration\n",
       "0   166377  2019-08-04 00:00:00+03:00        in    False          NaN            True            2              0                    4\n",
       "1   166377  2019-08-05 00:00:00+03:00       out     True     880022.0            True            3              0                    5\n",
       "2   166377  2019-08-05 00:00:00+03:00       out     True     880020.0            True            1              0                    1\n",
       "3   166377  2019-08-05 00:00:00+03:00       out     True     880020.0           False            1             10                   18\n",
       "4   166377  2019-08-05 00:00:00+03:00       out    False     880022.0            True            3              0                   25"
      ]
     },
     "metadata": {},
     "output_type": "display_data"
    },
    {
     "name": "stdout",
     "output_type": "stream",
     "text": [
      "Явных дубликатов в таблице data: 4900\n"
     ]
    },
    {
     "data": {
      "text/html": [
       "<div>\n",
       "<style scoped>\n",
       "    .dataframe tbody tr th:only-of-type {\n",
       "        vertical-align: middle;\n",
       "    }\n",
       "\n",
       "    .dataframe tbody tr th {\n",
       "        vertical-align: top;\n",
       "    }\n",
       "\n",
       "    .dataframe thead th {\n",
       "        text-align: right;\n",
       "    }\n",
       "</style>\n",
       "<table border=\"1\" class=\"dataframe\">\n",
       "  <thead>\n",
       "    <tr style=\"text-align: right;\">\n",
       "      <th></th>\n",
       "      <th>count_mising</th>\n",
       "      <th>percent_missing</th>\n",
       "    </tr>\n",
       "  </thead>\n",
       "  <tbody>\n",
       "    <tr>\n",
       "      <th>internal</th>\n",
       "      <td>117</td>\n",
       "      <td>0.22</td>\n",
       "    </tr>\n",
       "    <tr>\n",
       "      <th>operator_id</th>\n",
       "      <td>8172</td>\n",
       "      <td>15.16</td>\n",
       "    </tr>\n",
       "  </tbody>\n",
       "</table>\n",
       "</div>"
      ],
      "text/plain": [
       "             count_mising  percent_missing\n",
       "internal              117             0.22\n",
       "operator_id          8172            15.16"
      ]
     },
     "execution_count": 8,
     "metadata": {},
     "output_type": "execute_result"
    }
   ],
   "source": [
    "display(data.info())\n",
    "display(data.head())\n",
    "print('Явных дубликатов в таблице data:', data.duplicated().sum())\n",
    "nan_values(data)"
   ]
  },
  {
   "cell_type": "markdown",
   "metadata": {},
   "source": [
    "Поскольку в колонке date указана дата, лучше привести данные к типу datetime и для простоты удалить информацию о времени и часовом поясе"
   ]
  },
  {
   "cell_type": "code",
   "execution_count": 9,
   "metadata": {},
   "outputs": [],
   "source": [
    "data.date = pd.to_datetime(data.date)\n",
    "data.date = data['date'].dt.date"
   ]
  },
  {
   "cell_type": "markdown",
   "metadata": {},
   "source": [
    "Колонка internal содержит 117 пропусков, что составляет 0,22% от общего числа строк, что крайне мало. Поэтому эти строки можно безболезненно удалить. \n",
    "\n",
    "Колонка operator_id соддержит около 15% процентов пропусков. Удаление такого количества данных  может исказить результаты исследования, поэтому пока не удаляем эти пропуски. Чтобы решить, что делать с этими пропусками требуется дополнительное исследование. Пока же обозначим эти строки специальным \"маркером\" - заполним пропуски значением 9999.\n",
    "\n",
    "Явные дубликаты в количестве 4900 строк удаляем"
   ]
  },
  {
   "cell_type": "code",
   "execution_count": 10,
   "metadata": {},
   "outputs": [],
   "source": [
    "# удалаем явные дубликаты\n",
    "data = data.drop_duplicates()\n",
    "\n",
    "# пропуски в колоке operator_id заполняем условным номером 9999\n",
    "data['operator_id'] = data['operator_id'].fillna(9999)\n",
    "\n",
    "# удалаем строки с пропусками в колонке internal\n",
    "data = data.dropna(subset=['internal'])"
   ]
  },
  {
   "cell_type": "markdown",
   "metadata": {},
   "source": [
    "**Вывод:** \n",
    "\n",
    "Дубликатов и пропусков в таблице **clients** нет. \n",
    "\n",
    "Из таблицы **data** удалили явные дубликаты, строки с отсутствующим значением в колонке internal. Пропуски в столбце operator_id заменили маркерным значением 9999 "
   ]
  },
  {
   "cell_type": "markdown",
   "metadata": {},
   "source": [
    "### Исследование аномалий"
   ]
  },
  {
   "cell_type": "markdown",
   "metadata": {},
   "source": [
    "#### Колонка calls_count"
   ]
  },
  {
   "cell_type": "code",
   "execution_count": 11,
   "metadata": {},
   "outputs": [
    {
     "data": {
      "text/plain": [
       "count    48892.000000\n",
       "mean        16.495214\n",
       "std         63.671633\n",
       "min          1.000000\n",
       "25%          1.000000\n",
       "50%          4.000000\n",
       "75%         12.000000\n",
       "max       4817.000000\n",
       "Name: calls_count, dtype: float64"
      ]
     },
     "execution_count": 11,
     "metadata": {},
     "output_type": "execute_result"
    }
   ],
   "source": [
    "data.calls_count.describe()"
   ]
  },
  {
   "cell_type": "markdown",
   "metadata": {},
   "source": [
    "Как видно, присутствуют строки с аномально большим количеством звонков вдень, относящиеся к одному оператору и сгруппированные по признакам direction, internal, is_missed_call.\n",
    "\n",
    "Примем, что реально за 12 часовой рабочий день оператор может принять не более 300 звонков (1 звонок - 2 минуты, значит 30 звонков в час, значит 360 звонков в день минус короткие перерывы и перерыв на обед). Причем это всего звонков за смену. А в таблице звонки сгруппированы по трем параметрам и количество указано только по одной комбинации этих параметров. Значит реально, количество звонков одной комбинации по признакам direction, internal, is_missed_call еще меньше. Однако, если эти аномальные количества относятся к пропущенным звонкам, то подобные большие величины вполне реальны (например, если в этот день оператор был не на работе и его телефон не отключили от приема звонков).\n",
    "\n",
    "Поэтому удалим те строки, в которых количество звонков в день  больше 200 и все эти вызовы не являются пропущенными:"
   ]
  },
  {
   "cell_type": "code",
   "execution_count": 12,
   "metadata": {},
   "outputs": [
    {
     "name": "stdout",
     "output_type": "stream",
     "text": [
      "Таких строк: 239\n"
     ]
    }
   ],
   "source": [
    "print('Таких строк:', len(data.query('calls_count > 200 and is_missed_call==True')))"
   ]
  },
  {
   "cell_type": "code",
   "execution_count": 13,
   "metadata": {},
   "outputs": [],
   "source": [
    "data = data.loc[~((data['calls_count'] > 200) & (data['is_missed_call']==True))]"
   ]
  },
  {
   "cell_type": "markdown",
   "metadata": {},
   "source": [
    "#### Колонки call_duration и total_call_duration\n",
    "\n",
    "Для начала посмотрим, есть ли строки, в которых значение is_missed_call = True (т.е. звонки пропущены или не отвечены), а длительность разговора не равна нулю."
   ]
  },
  {
   "cell_type": "code",
   "execution_count": 14,
   "metadata": {},
   "outputs": [
    {
     "name": "stdout",
     "output_type": "stream",
     "text": [
      "Таких строк: 295\n"
     ]
    }
   ],
   "source": [
    "print('Таких строк:', len(data.query('is_missed_call==True and call_duration !=0')))"
   ]
  },
  {
   "cell_type": "markdown",
   "metadata": {},
   "source": [
    "Удалаяем эти строки"
   ]
  },
  {
   "cell_type": "code",
   "execution_count": 15,
   "metadata": {},
   "outputs": [],
   "source": [
    "data = data.loc[~((data['call_duration'] != 0) & (data['is_missed_call']==True))]"
   ]
  },
  {
   "cell_type": "code",
   "execution_count": 16,
   "metadata": {},
   "outputs": [
    {
     "data": {
      "text/plain": [
       "count     48358.000000\n",
       "mean        877.185181\n",
       "std        3799.348456\n",
       "min           0.000000\n",
       "25%           0.000000\n",
       "50%          39.000000\n",
       "75%         583.750000\n",
       "max      144395.000000\n",
       "Name: call_duration, dtype: float64"
      ]
     },
     "execution_count": 16,
     "metadata": {},
     "output_type": "execute_result"
    }
   ],
   "source": [
    "data.call_duration.describe()"
   ]
  },
  {
   "cell_type": "markdown",
   "metadata": {},
   "source": [
    "Как видно, в колонке присутствуют аномально большие значения. По информации, полученной от заказчика, значение продолжительности звонков указано в минутах. Если принять, что рабочий день оператора длится максимум 12 часов (с перерывом на обед), то продолжительность его разговоров не может быть больше 11 * 60 = 660 минут. Однако, средняя продолжительность звонков в колонке равна 877 минут, а медианная 39 минут. 877 не правдоподобная цифра, учитываядневно лимит в 660. А 39 минут для медианы слишком много для колцентров. Все говорит о том, что, скорее всего продолжительность звонков указана в секундах если не для всех, то по крайней мере для части строк. Посчитаем общую продолжительность разговоров по каждому оператору в день, без разделения по признакам."
   ]
  },
  {
   "cell_type": "code",
   "execution_count": 17,
   "metadata": {},
   "outputs": [
    {
     "data": {
      "text/plain": [
       "count     19755.000000\n",
       "mean       2147.249861\n",
       "std        5930.528559\n",
       "min           0.000000\n",
       "25%         142.000000\n",
       "50%         694.000000\n",
       "75%        2234.000000\n",
       "max      145006.000000\n",
       "Name: sum_call_duration, dtype: float64"
      ]
     },
     "execution_count": 17,
     "metadata": {},
     "output_type": "execute_result"
    }
   ],
   "source": [
    "pivot = data.groupby(['date','operator_id'])['call_duration'].agg('sum')\n",
    "pivot = pd.DataFrame(pivot)\n",
    "pivot.columns = ['sum_call_duration']\n",
    "pivot.sum_call_duration.describe()"
   ]
  },
  {
   "cell_type": "markdown",
   "metadata": {},
   "source": [
    "Если предположить, что время указано в секундах для всех строк, то средняя продолжительность разговоров вдень по одному оператору 2147/60 = 35 минут, а медианная 694/60 = 11 минут, что так же не похоже на правду - слишком мало. Поэтому, скорее всего, часть данных указана в минутах, часть в секундах. В качестве порогового значения выберем 660. Будем считать, что если продолжительность разговоров в день в строке превышает 660, то данные указаны в секундах. Поэтому для таких строк значения в колоках call_duration\tи total_call_duration приводим к минутам, т.е. делим на 60"
   ]
  },
  {
   "cell_type": "code",
   "execution_count": 18,
   "metadata": {},
   "outputs": [],
   "source": [
    "data['call_duration'] = np.where((data.call_duration > 660), data.call_duration / 60, data.call_duration)\n",
    "data['total_call_duration'] = np.where((data.total_call_duration > 660), data.total_call_duration / 60, data.total_call_duration)"
   ]
  },
  {
   "cell_type": "code",
   "execution_count": 19,
   "metadata": {},
   "outputs": [
    {
     "data": {
      "text/plain": [
       "count    48358.000000\n",
       "mean        82.348438\n",
       "std        151.316775\n",
       "min          0.000000\n",
       "25%          0.000000\n",
       "50%         15.266667\n",
       "75%         83.000000\n",
       "max       2406.583333\n",
       "Name: call_duration, dtype: float64"
      ]
     },
     "execution_count": 19,
     "metadata": {},
     "output_type": "execute_result"
    }
   ],
   "source": [
    "data.call_duration.describe()"
   ]
  },
  {
   "cell_type": "markdown",
   "metadata": {},
   "source": [
    "Видно, что даже после приведения к миутам, остались аномально большие значения. Примем в качестве порогового значения 660 минут и удалим все строки, в которых продолжительность разговоров превышает это значение."
   ]
  },
  {
   "cell_type": "code",
   "execution_count": 20,
   "metadata": {},
   "outputs": [
    {
     "name": "stdout",
     "output_type": "stream",
     "text": [
      "Таких строк: 105 или 0.22 %\n"
     ]
    }
   ],
   "source": [
    "print('Таких строк:', \n",
    "      len(data.query('call_duration > 660')), \n",
    "      'или', \n",
    "      round(100*len(data.query('call_duration > 660'))/len(data), 2),\n",
    "      '%')"
   ]
  },
  {
   "cell_type": "code",
   "execution_count": 21,
   "metadata": {},
   "outputs": [],
   "source": [
    "data = data.loc[~(data['call_duration'] > 660)]"
   ]
  },
  {
   "cell_type": "markdown",
   "metadata": {},
   "source": [
    "Аналогично поступим со строками, в которых total_call_duration > 660, т.к. время ожидания ответа тоже входит в рабочее время оператора."
   ]
  },
  {
   "cell_type": "code",
   "execution_count": 22,
   "metadata": {},
   "outputs": [
    {
     "name": "stdout",
     "output_type": "stream",
     "text": [
      "Таких строк: 7 или 0.01 %\n"
     ]
    }
   ],
   "source": [
    "print('Таких строк:', \n",
    "      len(data.query('total_call_duration > 660')), \n",
    "      'или', \n",
    "      round(100*len(data.query('total_call_duration > 660'))/len(data), 2),\n",
    "      '%')"
   ]
  },
  {
   "cell_type": "code",
   "execution_count": 23,
   "metadata": {},
   "outputs": [],
   "source": [
    "data = data.loc[~(data['total_call_duration'] > 660)]"
   ]
  },
  {
   "cell_type": "markdown",
   "metadata": {},
   "source": [
    "Теперь посмотрим, есть ли строки, в которых call_duration > total_call_duration"
   ]
  },
  {
   "cell_type": "code",
   "execution_count": 24,
   "metadata": {},
   "outputs": [
    {
     "name": "stdout",
     "output_type": "stream",
     "text": [
      "Таких строк: 888\n"
     ]
    }
   ],
   "source": [
    "data.query('call_duration > total_call_duration').head()\n",
    "print('Таких строк:', len(data.query('call_duration > total_call_duration')))"
   ]
  },
  {
   "cell_type": "markdown",
   "metadata": {},
   "source": [
    "Скорее всего, в этих строках значение call_duration указано в секундах, а total_call_duration - в минутах. Приведем значение call_duration в этих строках к минутам, разделив его на 60"
   ]
  },
  {
   "cell_type": "code",
   "execution_count": 25,
   "metadata": {},
   "outputs": [],
   "source": [
    "data['call_duration'] = np.where((data.call_duration > data.total_call_duration), data.call_duration / 60, data.call_duration)"
   ]
  },
  {
   "cell_type": "markdown",
   "metadata": {},
   "source": [
    "Вновь построим агрегированную таблицу по дате и по оператору и посмотрим, как изменилась величина общей продолжительности разговора одного оператора."
   ]
  },
  {
   "cell_type": "code",
   "execution_count": 26,
   "metadata": {},
   "outputs": [
    {
     "name": "stdout",
     "output_type": "stream",
     "text": [
      "count    19755.000000\n",
      "mean       169.604838\n",
      "std        192.102929\n",
      "min          0.000000\n",
      "25%         31.800000\n",
      "50%         88.983333\n",
      "75%        248.000000\n",
      "max       1460.000000\n",
      "Name: sum_call_duration, dtype: float64\n"
     ]
    },
    {
     "data": {
      "text/plain": [
       "<matplotlib.axes._subplots.AxesSubplot at 0xbd01ac8>"
      ]
     },
     "execution_count": 26,
     "metadata": {},
     "output_type": "execute_result"
    },
    {
     "data": {
      "image/png": "[encoded data removed]",
      "text/plain": [
       "<Figure size 1080x576 with 1 Axes>"
      ]
     },
     "metadata": {
      "needs_background": "light"
     },
     "output_type": "display_data"
    }
   ],
   "source": [
    "pivot = data.groupby(['date','operator_id'])['call_duration'].agg('sum')\n",
    "pivot = pd.DataFrame(pivot)\n",
    "pivot.columns = ['sum_call_duration']\n",
    "print(pivot.sum_call_duration.describe())\n",
    "plt.title('Распределение суммарной по оператору продолжительности разговоров в день')\n",
    "plt.ylabel('Количество операторв')\n",
    "plt.xlabel('Продолжительность разговоров, минуты')\n",
    "pivot.sum_call_duration.hist(bins=100,\n",
    "                             figsize=(15,8))"
   ]
  },
  {
   "cell_type": "markdown",
   "metadata": {},
   "source": [
    "Среднее время разговора одного оператора в день 169 минут, медианное 89 минут. Похоже на правду. Однако, попрежнему остаются операторы-рекордсмены, чья суммарная продолжительность разговоров в день превышает теоретически возможные 720 минут. "
   ]
  },
  {
   "cell_type": "code",
   "execution_count": 27,
   "metadata": {},
   "outputs": [
    {
     "name": "stdout",
     "output_type": "stream",
     "text": [
      "Таких операторов: 360 или 1.82 %\n"
     ]
    }
   ],
   "source": [
    "print('Таких операторов:', \n",
    "      len(pivot.query('sum_call_duration > 720')), \n",
    "      'или', \n",
    "      round(100*len(pivot.query('sum_call_duration > 720'))/len(pivot), 2),\n",
    "      '%')"
   ]
  },
  {
   "cell_type": "markdown",
   "metadata": {},
   "source": [
    "С этими операторами ничего делать не будем. Во-первых, возможно они работают сутками, или могут одновременно вести несколько разговоров, ставя часть на удержание. Во-вторых. Не просматривается возможность выделить какие-то разговоры которые могут быть неправдоподобно длинными. Поэтому оставляем данные в таком виде для дальнейшего исследования."
   ]
  },
  {
   "cell_type": "markdown",
   "metadata": {},
   "source": [
    "### Обработка пропусков в колонке operator_id"
   ]
  },
  {
   "cell_type": "code",
   "execution_count": 28,
   "metadata": {},
   "outputs": [
    {
     "name": "stdout",
     "output_type": "stream",
     "text": [
      "Оператор 9999 встречается среди 305 кол-центров из 307 по которым представлена информация\n"
     ]
    }
   ],
   "source": [
    "print('Оператор 9999 встречается среди', len(data.query('operator_id == 9999').user_id.unique()), 'кол-центров из',\\\n",
    "     len(data.user_id.unique()), 'по которым представлена информация')"
   ]
  },
  {
   "cell_type": "markdown",
   "metadata": {},
   "source": [
    "Это означает, что за пропущенным значением не скрывается какой-то конкретный оператор. Кроме того, строки с пропусками присутствуют в данных почти по каждому кол-центру, а значит, возможно, удаление этих данных не исказит статистику. \n",
    "\n",
    "Посмотрим, как повлияет удаление строк с пропусками в колонке operator_id на распределение данных по категориальным признакам звонков: direction, internal, is_missed_call.\t"
   ]
  },
  {
   "cell_type": "code",
   "execution_count": 29,
   "metadata": {},
   "outputs": [
    {
     "data": {
      "image/png": "[encoded data removed]",
      "text/plain": [
       "<Figure size 864x360 with 1 Axes>"
      ]
     },
     "metadata": {
      "needs_background": "light"
     },
     "output_type": "display_data"
    }
   ],
   "source": [
    "def NaN_deletion_estimation_categorial(parametr):\n",
    "    pivot = pd.DataFrame(data.groupby(parametr)['user_id'].agg('count'))\n",
    "    pivot.columns = ['cnt']\n",
    "    pivot['cnt_percent'] = round(100*pivot.cnt/pivot.cnt.sum())\n",
    "    pivot = pivot.drop(columns=['cnt'])\n",
    "\n",
    "    pivot_without_9999 = pd.DataFrame(data\n",
    "                         .query('operator_id != 9999')\n",
    "                         .groupby(parametr)['user_id'].agg('count'))\n",
    "    pivot_without_9999.columns = ['cnt_without_9999']\n",
    "    pivot_without_9999['cnt_without_9999_percent'] = \\\n",
    "    round(100 * pivot_without_9999.cnt_without_9999 / pivot_without_9999.cnt_without_9999.sum())\n",
    "    pivot_without_9999 = pivot_without_9999.drop(columns=['cnt_without_9999'])\n",
    "\n",
    "    pivot = pivot.join(pivot_without_9999)\n",
    "    pivot.columns=['исходный датафрейм', 'после удаления пропусков в колонке operator_id']\n",
    "    ax = pivot.T.plot(kind='barh',\n",
    "                      stacked=True,\n",
    "                      figsize=(12,5),\n",
    "                      fontsize=16)\n",
    "    ax.set_title('Распределение между звонками в исходном датафрейме и при условии удаления строк с пропущенным значением operator_id', fontsize=20)\n",
    "    ax.set_xlabel('доля от общего количества звонков, %', fontsize=16)\n",
    "     \n",
    "NaN_deletion_estimation_categorial('direction')    "
   ]
  },
  {
   "cell_type": "markdown",
   "metadata": {},
   "source": [
    "Вывод: удаление строк с пропусками приведет к изменению соотношения между входящими и исходящими звонками на 10%"
   ]
  },
  {
   "cell_type": "code",
   "execution_count": 30,
   "metadata": {},
   "outputs": [
    {
     "data": {
      "image/png": "[encoded data removed]",
      "text/plain": [
       "<Figure size 864x360 with 1 Axes>"
      ]
     },
     "metadata": {
      "needs_background": "light"
     },
     "output_type": "display_data"
    }
   ],
   "source": [
    "NaN_deletion_estimation_categorial('internal')   "
   ]
  },
  {
   "cell_type": "markdown",
   "metadata": {},
   "source": [
    "Вывод: удаление строк с пропусками НЕ приведет к изменению соотношения между внутренними и внешними звонками"
   ]
  },
  {
   "cell_type": "code",
   "execution_count": 31,
   "metadata": {},
   "outputs": [
    {
     "data": {
      "image/png": "[encoded data removed]",
      "text/plain": [
       "<Figure size 864x360 with 1 Axes>"
      ]
     },
     "metadata": {
      "needs_background": "light"
     },
     "output_type": "display_data"
    }
   ],
   "source": [
    "NaN_deletion_estimation_categorial('is_missed_call')   "
   ]
  },
  {
   "cell_type": "markdown",
   "metadata": {},
   "source": [
    "Вывод: удаление строк с пропусками приведет к изменению соотношения между пропущенными и непропущенными звонками на 10%"
   ]
  },
  {
   "cell_type": "code",
   "execution_count": 32,
   "metadata": {},
   "outputs": [
    {
     "data": {
      "image/png": "[encoded data removed]",
      "text/plain": [
       "<Figure size 1296x576 with 2 Axes>"
      ]
     },
     "metadata": {
      "needs_background": "light"
     },
     "output_type": "display_data"
    }
   ],
   "source": [
    "def NaN_deletion_estimation_numeric(parametr):\n",
    "    mean_after_dell = round(data.query('operator_id != 9999')[parametr].mean())\n",
    "    median_after_dell = round(data.query('operator_id != 9999')[parametr].median())\n",
    "    fig = plt.figure(figsize=(18, 8))\n",
    "    ax = fig.add_subplot(121)\n",
    "    data[parametr].plot(kind='box')\n",
    "    ax.set_title(f'Распределение величины {parametr} в исходном датафрейме',fontsize=14)\n",
    "    ax.text(1.1, 500, f'Среднее: {round(data[parametr].mean())}', fontsize=16)\n",
    "    ax.text(1.1, 450, f'Медиана: {round(data[parametr].median())}', fontsize=16)\n",
    "    \n",
    "    ax = fig.add_subplot(122)\n",
    "    data.query('operator_id != 9999')[parametr].plot(kind='box')\n",
    "    ax.set_title(f'Распределение величины {parametr} после удаления пропусков в колонке operator_id',fontsize=14)\n",
    "    ax.text(1.1, 500, f'Среднее: {mean_after_dell}', fontsize=16)\n",
    "    ax.text(1.1, 450, f'Медиана: {median_after_dell}', fontsize=16)\n",
    "    plt.show()\n",
    "    \n",
    "NaN_deletion_estimation_numeric('call_duration')    "
   ]
  },
  {
   "cell_type": "markdown",
   "metadata": {},
   "source": [
    "Вывод: удаление строк с пропусками приведет к существенному изменению \n",
    "* медианного значения продолжительности разговоров по одной группе агрегации с 13 до 22 минут.\n",
    "* среднего значения продолжительности разговоров по одной группе агрегации с 69 до 81 минуты."
   ]
  },
  {
   "cell_type": "code",
   "execution_count": 33,
   "metadata": {},
   "outputs": [
    {
     "data": {
      "image/png": "[encoded data removed]",
      "text/plain": [
       "<Figure size 1296x576 with 2 Axes>"
      ]
     },
     "metadata": {
      "needs_background": "light"
     },
     "output_type": "display_data"
    }
   ],
   "source": [
    "NaN_deletion_estimation_numeric('total_call_duration') "
   ]
  },
  {
   "cell_type": "markdown",
   "metadata": {},
   "source": [
    "Вывод: удаление строк с пропусками НЕ приведет к существенному изменению среднего и медианного значения общей продолжительности разговоров по одной группе агрегации."
   ]
  },
  {
   "cell_type": "code",
   "execution_count": 34,
   "metadata": {},
   "outputs": [
    {
     "data": {
      "image/png": "[encoded data removed]",
      "text/plain": [
       "<Figure size 1296x576 with 2 Axes>"
      ]
     },
     "metadata": {
      "needs_background": "light"
     },
     "output_type": "display_data"
    }
   ],
   "source": [
    "NaN_deletion_estimation_numeric('calls_count') "
   ]
  },
  {
   "cell_type": "markdown",
   "metadata": {},
   "source": [
    "Вывод: удаление строк с пропусками НЕ приведет к существенному изменению медианного и среднего значения количества звонков по одной группе агрегации."
   ]
  },
  {
   "cell_type": "markdown",
   "metadata": {},
   "source": [
    "**Вывод:**\n",
    "\n",
    "Удаление строк с пропущенным параметром **operator_id** приведет к искажению данных \n",
    "* в части соотношения между входящими и исходящими звонками на 10%\n",
    "* в части соотношения между пропущенными и состоявшимися звонками на 10%\n",
    "* увеличит медианную продолжительность разговоров, агрегированных по комбинации параметров direction, internal, is_missed_call на 70%\n",
    "* увеличит среднюю продолжительность разговоров, агрегированных по комбинации параметров direction, internal, is_missed_call на 17%\n",
    "\n",
    "Наиболее критичный момент - изменение параметра call_duration. Однако, сильно меняется только медиана и среднее. Общий характер распределения меняется не сильно.\n",
    "\n",
    "**С учетом проведенного анализа принимаем решение удалить данные с пропусками operator_id.**\n",
    "\n",
    "Осталять эти значения нельзя, так как мы анализируем результаты работы реальных операторов. Оставив часть данных под вымышленным операторм 9999 мы получим результаты его работы. Но это будут абсолютно ничего не значащие данные, так как под этим ником, скорее всего скрывается комбинация работы множества других операторв. Часть данных о работе реальных операторов пропадет, но она и так пропадет, независимо от того, удалим мы данные, или оставим под ником 9999. Проделанный выше анализ нужен чтобы правильно интерпретировать результаты дальнейшего исследования, помня о том, что часть данных были удалены.  "
   ]
  },
  {
   "cell_type": "code",
   "execution_count": 35,
   "metadata": {},
   "outputs": [],
   "source": [
    "data = data.query('operator_id != 9999')"
   ]
  },
  {
   "cell_type": "markdown",
   "metadata": {},
   "source": [
    "## Определение неэффективных операторв\n",
    "### Разделение кол-центров по специализации\n",
    "\n",
    "Для каждого кол-центра посчитаем общее число входящих и исходящих звонков, а так же определим, какие доли занимают входящие и исходящие звонки в общем количестве звонков. Кроме того, для каждого колцентра посчитаем среднюю продолжительность разговоров по входящим и исходящим звонкам. **При оценке объемов входящих/исходящих звонков учитываем только внешние звонки.**"
   ]
  },
  {
   "cell_type": "code",
   "execution_count": 36,
   "metadata": {},
   "outputs": [
    {
     "data": {
      "text/html": [
       "<div>\n",
       "<style scoped>\n",
       "    .dataframe tbody tr th:only-of-type {\n",
       "        vertical-align: middle;\n",
       "    }\n",
       "\n",
       "    .dataframe tbody tr th {\n",
       "        vertical-align: top;\n",
       "    }\n",
       "\n",
       "    .dataframe thead th {\n",
       "        text-align: right;\n",
       "    }\n",
       "</style>\n",
       "<table border=\"1\" class=\"dataframe\">\n",
       "  <thead>\n",
       "    <tr style=\"text-align: right;\">\n",
       "      <th></th>\n",
       "      <th>in_calls_mean_duration</th>\n",
       "      <th>out_calls_mean_duration</th>\n",
       "      <th>in_calls_count_rate</th>\n",
       "      <th>out_calls_count_rate</th>\n",
       "    </tr>\n",
       "    <tr>\n",
       "      <th>user_id</th>\n",
       "      <th></th>\n",
       "      <th></th>\n",
       "      <th></th>\n",
       "      <th></th>\n",
       "    </tr>\n",
       "  </thead>\n",
       "  <tbody>\n",
       "    <tr>\n",
       "      <th>166377</th>\n",
       "      <td>100.486486</td>\n",
       "      <td>37.293939</td>\n",
       "      <td>2.04</td>\n",
       "      <td>97.96</td>\n",
       "    </tr>\n",
       "    <tr>\n",
       "      <th>166391</th>\n",
       "      <td>62.250000</td>\n",
       "      <td>0.000000</td>\n",
       "      <td>100.00</td>\n",
       "      <td>0.00</td>\n",
       "    </tr>\n",
       "    <tr>\n",
       "      <th>166392</th>\n",
       "      <td>184.076596</td>\n",
       "      <td>0.000000</td>\n",
       "      <td>100.00</td>\n",
       "      <td>0.00</td>\n",
       "    </tr>\n",
       "    <tr>\n",
       "      <th>166399</th>\n",
       "      <td>18.444444</td>\n",
       "      <td>0.000000</td>\n",
       "      <td>100.00</td>\n",
       "      <td>0.00</td>\n",
       "    </tr>\n",
       "    <tr>\n",
       "      <th>166405</th>\n",
       "      <td>98.274830</td>\n",
       "      <td>46.398623</td>\n",
       "      <td>18.27</td>\n",
       "      <td>81.73</td>\n",
       "    </tr>\n",
       "  </tbody>\n",
       "</table>\n",
       "</div>"
      ],
      "text/plain": [
       "         in_calls_mean_duration  out_calls_mean_duration  in_calls_count_rate  out_calls_count_rate\n",
       "user_id                                                                                            \n",
       "166377               100.486486                37.293939                 2.04                 97.96\n",
       "166391                62.250000                 0.000000               100.00                  0.00\n",
       "166392               184.076596                 0.000000               100.00                  0.00\n",
       "166399                18.444444                 0.000000               100.00                  0.00\n",
       "166405                98.274830                46.398623                18.27                 81.73"
      ]
     },
     "execution_count": 36,
     "metadata": {},
     "output_type": "execute_result"
    }
   ],
   "source": [
    "pivot = (data\n",
    "         .query('internal == False')\n",
    "         .pivot_table(index='user_id',\n",
    "                      columns='direction',\n",
    "                      values=['calls_count', 'call_duration'],\n",
    "                      aggfunc={'calls_count':'sum',\n",
    "                               'call_duration':'mean'})\n",
    "        )\n",
    "pivot.columns=['in_calls_mean_duration', \n",
    "               'out_calls_mean_duration', \n",
    "               'in_calls_count', \n",
    "               'out_calls_count']\n",
    "pivot['in_calls_mean_duration'] = pivot['in_calls_mean_duration'].fillna(0)\n",
    "pivot['out_calls_mean_duration'] = pivot['out_calls_mean_duration'].fillna(0)\n",
    "pivot['in_calls_count'] = pivot['in_calls_count'].fillna(0)\n",
    "pivot['out_calls_count'] = pivot['out_calls_count'].fillna(0)\n",
    "pivot['in_calls_count_rate'] = round(100* pivot['in_calls_count'] / (pivot['in_calls_count'] + pivot['out_calls_count']),2)\n",
    "pivot['out_calls_count_rate'] = round(100* pivot['out_calls_count'] / (pivot['in_calls_count'] + pivot['out_calls_count']),2)\n",
    "pivot = pivot.drop(columns=['in_calls_count', 'out_calls_count'])\n",
    "pivot.head()"
   ]
  },
  {
   "cell_type": "code",
   "execution_count": 37,
   "metadata": {},
   "outputs": [
    {
     "data": {
      "text/html": [
       "<div>\n",
       "<style scoped>\n",
       "    .dataframe tbody tr th:only-of-type {\n",
       "        vertical-align: middle;\n",
       "    }\n",
       "\n",
       "    .dataframe tbody tr th {\n",
       "        vertical-align: top;\n",
       "    }\n",
       "\n",
       "    .dataframe thead th {\n",
       "        text-align: right;\n",
       "    }\n",
       "</style>\n",
       "<table border=\"1\" class=\"dataframe\">\n",
       "  <thead>\n",
       "    <tr style=\"text-align: right;\">\n",
       "      <th></th>\n",
       "      <th>in_calls_mean_duration</th>\n",
       "      <th>out_calls_mean_duration</th>\n",
       "      <th>in_calls_count_rate</th>\n",
       "      <th>out_calls_count_rate</th>\n",
       "    </tr>\n",
       "  </thead>\n",
       "  <tbody>\n",
       "    <tr>\n",
       "      <th>in_calls_mean_duration</th>\n",
       "      <td>1.000000</td>\n",
       "      <td>0.161868</td>\n",
       "      <td>0.050265</td>\n",
       "      <td>-0.050265</td>\n",
       "    </tr>\n",
       "    <tr>\n",
       "      <th>out_calls_mean_duration</th>\n",
       "      <td>0.161868</td>\n",
       "      <td>1.000000</td>\n",
       "      <td>-0.477353</td>\n",
       "      <td>0.477353</td>\n",
       "    </tr>\n",
       "    <tr>\n",
       "      <th>in_calls_count_rate</th>\n",
       "      <td>0.050265</td>\n",
       "      <td>-0.477353</td>\n",
       "      <td>1.000000</td>\n",
       "      <td>-1.000000</td>\n",
       "    </tr>\n",
       "    <tr>\n",
       "      <th>out_calls_count_rate</th>\n",
       "      <td>-0.050265</td>\n",
       "      <td>0.477353</td>\n",
       "      <td>-1.000000</td>\n",
       "      <td>1.000000</td>\n",
       "    </tr>\n",
       "  </tbody>\n",
       "</table>\n",
       "</div>"
      ],
      "text/plain": [
       "                         in_calls_mean_duration  out_calls_mean_duration  in_calls_count_rate  out_calls_count_rate\n",
       "in_calls_mean_duration                 1.000000                 0.161868             0.050265             -0.050265\n",
       "out_calls_mean_duration                0.161868                 1.000000            -0.477353              0.477353\n",
       "in_calls_count_rate                    0.050265                -0.477353             1.000000             -1.000000\n",
       "out_calls_count_rate                  -0.050265                 0.477353            -1.000000              1.000000"
      ]
     },
     "execution_count": 37,
     "metadata": {},
     "output_type": "execute_result"
    }
   ],
   "source": [
    "pivot.corr()"
   ]
  },
  {
   "cell_type": "markdown",
   "metadata": {},
   "source": [
    "Какй-либо сильной корреляции между объемом звоков и их продолжительностью выявить не удалось. Средняя положительная корреляция наблюдается между средней продолжительностью исходящих звонков и долей исходящих звонков. Посмотрим, как распределены кол-центры по доле входящих звонков. "
   ]
  },
  {
   "cell_type": "code",
   "execution_count": 38,
   "metadata": {},
   "outputs": [
    {
     "data": {
      "text/plain": [
       "<matplotlib.axes._subplots.AxesSubplot at 0xcecb0f0>"
      ]
     },
     "execution_count": 38,
     "metadata": {},
     "output_type": "execute_result"
    },
    {
     "data": {
      "image/png": "[encoded data removed]",
      "text/plain": [
       "<Figure size 936x432 with 1 Axes>"
      ]
     },
     "metadata": {
      "needs_background": "light"
     },
     "output_type": "display_data"
    }
   ],
   "source": [
    "plt.title('Распределение колцентров по доле входящих звонков', fontsize=14)\n",
    "plt.ylabel('Количество колцентров', fontsize=14)\n",
    "plt.xlabel('Доля входящих звонков, %', fontsize=14)\n",
    "pivot.in_calls_count_rate.hist(bins=100,\n",
    "                              figsize=(13,6))"
   ]
  },
  {
   "cell_type": "markdown",
   "metadata": {},
   "source": [
    "Видно, что есть два \"полюса\" специализации на входящих и исходящих звонках. А так же много кол-центров, которые совершают и те и другие звонки. \n",
    "КЦ, у которых доля исходящих звонков больше 75% отнесем к обзванивающим КЦ. Аналогично для КЦ, совершающих звонки. Тоже 75%. Следовательно, КЦ которые не попадают под эти критерии не будут отнесены ни к одной из групп. 75% это, на мой взгляд, оптимальный критерий, который с одной строны, четко выделяет направление деятельности КЦ, с другой стороны, не приведет к существенному сужению исследуемых данных, как, если бы взяли 100%, например."
   ]
  },
  {
   "cell_type": "code",
   "execution_count": 39,
   "metadata": {},
   "outputs": [],
   "source": [
    "# кол-центры, относящиеся к прнимающим звонки\n",
    "in_cc = pivot.query('in_calls_count_rate > 75').index\n",
    "# кол-центры, относящиеся к совершающим звонки\n",
    "out_cc = pivot.query('out_calls_count_rate > 75').index"
   ]
  },
  {
   "cell_type": "code",
   "execution_count": 40,
   "metadata": {},
   "outputs": [],
   "source": [
    "# выбираем данные для кол-центров, относящимся к прнимающим звонки\n",
    "in_cc_data = data[data.user_id.isin(in_cc)]\n",
    "# выбираем данные для кол-центров, относящимся к совершающим звонки\n",
    "out_cc_data = data[data.user_id.isin(out_cc)]"
   ]
  },
  {
   "cell_type": "markdown",
   "metadata": {},
   "source": [
    "**Вывод:** разделили кол-центры по специализации - на принимающие (97 кол-центров) и совершающие (110 кол-центров) звонки. "
   ]
  },
  {
   "cell_type": "markdown",
   "metadata": {},
   "source": [
    "### Определение эффективности операторов колцентров, принимающих звонки\n",
    "#### Оценка доли пропущенных звонков\n",
    "\n",
    "Для каждого оператора, работающего в кол-центре, специализирующемся на приеме звонков, рассчитаем долю пропущенных звонков. Построим гистограмму, показывающую как распределены операторы по величине этой доли."
   ]
  },
  {
   "cell_type": "code",
   "execution_count": 41,
   "metadata": {},
   "outputs": [],
   "source": [
    "pivot_all = in_cc_data.pivot_table(index='operator_id',\n",
    "                                   values='calls_count',\n",
    "                                   aggfunc='sum')\n",
    "pivot_missed = in_cc_data.query('is_missed_call==True').pivot_table(index='operator_id',\n",
    "                                                                    values='calls_count',\n",
    "                                                                    aggfunc='sum')\n",
    "\n",
    "pivot = pivot_all.join(pivot_missed, lsuffix='_all', rsuffix='_missed')\n",
    "pivot = pivot.fillna(0)\n",
    "\n",
    "pivot['missed_calls_rate'] = round(100*pivot.calls_count_missed / pivot.calls_count_all, 2)\n",
    "pivot = pivot.sort_values('missed_calls_rate')"
   ]
  },
  {
   "cell_type": "code",
   "execution_count": 42,
   "metadata": {},
   "outputs": [
    {
     "data": {
      "image/png": "[encoded data removed]",
      "text/plain": [
       "<Figure size 936x432 with 1 Axes>"
      ]
     },
     "metadata": {
      "needs_background": "light"
     },
     "output_type": "display_data"
    }
   ],
   "source": [
    "mean_missed_calls_rate = round(pivot['missed_calls_rate'].mean())\n",
    "median_missed_calls_rate = round(pivot['missed_calls_rate'].median())\n",
    "\n",
    "fig, ax = plt.subplots()\n",
    "\n",
    "pivot['missed_calls_rate'].hist(bins=100)\n",
    "\n",
    "ax.text(30, 50, f'Среднее: {mean_missed_calls_rate} пропущенных звонков', fontsize = 16)\n",
    "ax.text(30, 40, f'Медиана: {median_missed_calls_rate} пропущенных звонков', fontsize = 16)\n",
    "ax.set_title('Распределение операторов по доле пропущенных звонков', fontsize = 14)\n",
    "ax.set_xlabel('Доля пропущенных звонков, %', fontsize = 14)\n",
    "ax.set_ylabel('Колличество операторов', fontsize = 14)\n",
    "fig.set_figwidth(13)\n",
    "fig.set_figheight(6)\n",
    "\n",
    "plt.show()"
   ]
  },
  {
   "cell_type": "markdown",
   "metadata": {},
   "source": [
    "Как видно из гистограммы, подавляющее большенство операторов отвечает на все звонки.Есть и те кто пропускает часть звонков и те, кто по какой-то причине пропускает все. \n",
    "\n",
    "Руководитель операторв, глядя на это распределение, величину среднего сам принимает решение, какая доля пропущенных звонков является критичной и может посмотреть операторов, которые пропускают больше этого порогового значения. \n",
    "\n",
    "Например, можно получить id операторов, которые за рассматриваемый промежуток времени пропустили более 20% входящих звонков."
   ]
  },
  {
   "cell_type": "code",
   "execution_count": 43,
   "metadata": {},
   "outputs": [
    {
     "data": {
      "text/plain": [
       "Float64Index([907504.0, 907964.0, 926872.0, 951332.0, 905300.0, 930242.0, 882478.0, 944474.0, 962268.0, 970486.0, 934098.0, 930690.0, 955082.0, 903978.0, 905472.0, 970484.0, 904344.0, 905480.0, 955068.0, 905308.0], dtype='float64', name='operator_id')"
      ]
     },
     "execution_count": 43,
     "metadata": {},
     "output_type": "execute_result"
    }
   ],
   "source": [
    "pivot.query('missed_calls_rate > 20').index"
   ]
  },
  {
   "cell_type": "markdown",
   "metadata": {},
   "source": [
    "#### Оценка времени ожидания\n",
    "\n",
    "Рассчитаем среднее значение ремени ожидания ответа для внешних входящих вызовов по каждому оператору"
   ]
  },
  {
   "cell_type": "code",
   "execution_count": 44,
   "metadata": {},
   "outputs": [
    {
     "data": {
      "text/html": [
       "<div>\n",
       "<style scoped>\n",
       "    .dataframe tbody tr th:only-of-type {\n",
       "        vertical-align: middle;\n",
       "    }\n",
       "\n",
       "    .dataframe tbody tr th {\n",
       "        vertical-align: top;\n",
       "    }\n",
       "\n",
       "    .dataframe thead th {\n",
       "        text-align: right;\n",
       "    }\n",
       "</style>\n",
       "<table border=\"1\" class=\"dataframe\">\n",
       "  <thead>\n",
       "    <tr style=\"text-align: right;\">\n",
       "      <th></th>\n",
       "      <th>call_duration</th>\n",
       "      <th>calls_count</th>\n",
       "      <th>total_call_duration</th>\n",
       "      <th>mean_one_operator_waiting_duration</th>\n",
       "    </tr>\n",
       "    <tr>\n",
       "      <th>operator_id</th>\n",
       "      <th></th>\n",
       "      <th></th>\n",
       "      <th></th>\n",
       "      <th></th>\n",
       "    </tr>\n",
       "  </thead>\n",
       "  <tbody>\n",
       "    <tr>\n",
       "      <th>882476.0</th>\n",
       "      <td>192.00</td>\n",
       "      <td>3</td>\n",
       "      <td>287.000000</td>\n",
       "      <td>31.666667</td>\n",
       "    </tr>\n",
       "    <tr>\n",
       "      <th>882478.0</th>\n",
       "      <td>57.00</td>\n",
       "      <td>1</td>\n",
       "      <td>70.000000</td>\n",
       "      <td>13.000000</td>\n",
       "    </tr>\n",
       "    <tr>\n",
       "      <th>882680.0</th>\n",
       "      <td>4355.25</td>\n",
       "      <td>97</td>\n",
       "      <td>5797.333333</td>\n",
       "      <td>14.866838</td>\n",
       "    </tr>\n",
       "    <tr>\n",
       "      <th>884294.0</th>\n",
       "      <td>5.00</td>\n",
       "      <td>1</td>\n",
       "      <td>11.000000</td>\n",
       "      <td>6.000000</td>\n",
       "    </tr>\n",
       "    <tr>\n",
       "      <th>886674.0</th>\n",
       "      <td>166.00</td>\n",
       "      <td>11</td>\n",
       "      <td>334.000000</td>\n",
       "      <td>15.272727</td>\n",
       "    </tr>\n",
       "  </tbody>\n",
       "</table>\n",
       "</div>"
      ],
      "text/plain": [
       "             call_duration  calls_count  total_call_duration  mean_one_operator_waiting_duration\n",
       "operator_id                                                                                     \n",
       "882476.0            192.00            3           287.000000                           31.666667\n",
       "882478.0             57.00            1            70.000000                           13.000000\n",
       "882680.0           4355.25           97          5797.333333                           14.866838\n",
       "884294.0              5.00            1            11.000000                            6.000000\n",
       "886674.0            166.00           11           334.000000                           15.272727"
      ]
     },
     "execution_count": 44,
     "metadata": {},
     "output_type": "execute_result"
    }
   ],
   "source": [
    "in_cc_data_in_calls = in_cc_data.query('direction==\"in\" and internal==False')\n",
    "\n",
    "pivot = in_cc_data_in_calls.pivot_table(index='operator_id',\n",
    "                                        values=['calls_count', 'call_duration', 'total_call_duration'],\n",
    "                                        aggfunc={'calls_count':'sum',\n",
    "                                                 'call_duration':'sum',\n",
    "                                                 'total_call_duration':'sum'})\n",
    "pivot.columns=['call_duration', 'calls_count', 'total_call_duration']\n",
    "pivot['mean_one_operator_waiting_duration'] = (pivot.total_call_duration - pivot.call_duration) / pivot.calls_count\n",
    "pivot.head()"
   ]
  },
  {
   "cell_type": "markdown",
   "metadata": {},
   "source": [
    "Смотрим как распределены операторы по среднему времени ожидания ответа"
   ]
  },
  {
   "cell_type": "code",
   "execution_count": 45,
   "metadata": {},
   "outputs": [
    {
     "data": {
      "image/png": "[encoded data removed]",
      "text/plain": [
       "<Figure size 936x432 with 1 Axes>"
      ]
     },
     "metadata": {
      "needs_background": "light"
     },
     "output_type": "display_data"
    }
   ],
   "source": [
    "mean_waiting_duration = round(pivot['mean_one_operator_waiting_duration'].mean())\n",
    "median_waiting_duration = round(pivot['mean_one_operator_waiting_duration'].median())\n",
    "\n",
    "fig, ax = plt.subplots()\n",
    "\n",
    "pivot['mean_one_operator_waiting_duration'].hist(bins=100)\n",
    "\n",
    "ax.text(30, 9, f'Среднее время ожидания: {mean_waiting_duration} минут', fontsize = 16)\n",
    "ax.text(30, 7, f'Медианное время ожидания: {median_waiting_duration} минут', fontsize = 16)\n",
    "ax.set_title('Распределение операторов по среднему времени ожидания', fontsize = 14)\n",
    "ax.set_xlabel('Время ожидания, мин', fontsize = 14)\n",
    "ax.set_ylabel('Колличество операторов', fontsize = 14)\n",
    "fig.set_figwidth(13)\n",
    "fig.set_figheight(6)\n",
    "\n",
    "plt.show()"
   ]
  },
  {
   "cell_type": "markdown",
   "metadata": {},
   "source": [
    "Судя по гистограмме, со временем ожидания большие проблемы среднее в 16 минут это очень много. \n",
    "\n",
    "Однако, цель данного исследования - показать возможность анализа данного параметра. Руководитель операторов, глядя на распределение, величину среднего сам принимает решение, какое время ожидания является критичным и может посмотреть операторов, которые не поднимают трубка дольше определенного времени.\n",
    "\n",
    "Например, можно получить id операторов, для которых за рассматриваемый промежуток времени среднее время ожидания превышает 3 минуты"
   ]
  },
  {
   "cell_type": "code",
   "execution_count": 46,
   "metadata": {},
   "outputs": [
    {
     "data": {
      "text/plain": [
       "Float64Index([882476.0, 882478.0, 882680.0, 884294.0, 886674.0, 886892.0, 887416.0, 888520.0, 889638.0, 889640.0,\n",
       "              ...\n",
       "              958394.0, 960698.0, 961770.0, 962062.0, 962268.0, 964518.0, 965942.0, 968368.0, 971100.0, 973286.0], dtype='float64', name='operator_id', length=168)"
      ]
     },
     "execution_count": 46,
     "metadata": {},
     "output_type": "execute_result"
    }
   ],
   "source": [
    "pivot.query('mean_one_operator_waiting_duration > 3').index"
   ]
  },
  {
   "cell_type": "markdown",
   "metadata": {},
   "source": [
    "### Определение эффективности операторов колцентров, совершающих звонки"
   ]
  },
  {
   "cell_type": "markdown",
   "metadata": {},
   "source": [
    "Посчитаем для каждого оператора общее число внешних исходящих вызовов"
   ]
  },
  {
   "cell_type": "code",
   "execution_count": 47,
   "metadata": {},
   "outputs": [
    {
     "data": {
      "text/html": [
       "<div>\n",
       "<style scoped>\n",
       "    .dataframe tbody tr th:only-of-type {\n",
       "        vertical-align: middle;\n",
       "    }\n",
       "\n",
       "    .dataframe tbody tr th {\n",
       "        vertical-align: top;\n",
       "    }\n",
       "\n",
       "    .dataframe thead th {\n",
       "        text-align: right;\n",
       "    }\n",
       "</style>\n",
       "<table border=\"1\" class=\"dataframe\">\n",
       "  <thead>\n",
       "    <tr style=\"text-align: right;\">\n",
       "      <th></th>\n",
       "      <th>calls_count</th>\n",
       "    </tr>\n",
       "    <tr>\n",
       "      <th>operator_id</th>\n",
       "      <th></th>\n",
       "    </tr>\n",
       "  </thead>\n",
       "  <tbody>\n",
       "    <tr>\n",
       "      <th>879896.0</th>\n",
       "      <td>816</td>\n",
       "    </tr>\n",
       "    <tr>\n",
       "      <th>879898.0</th>\n",
       "      <td>7191</td>\n",
       "    </tr>\n",
       "    <tr>\n",
       "      <th>880020.0</th>\n",
       "      <td>34</td>\n",
       "    </tr>\n",
       "    <tr>\n",
       "      <th>880022.0</th>\n",
       "      <td>174</td>\n",
       "    </tr>\n",
       "    <tr>\n",
       "      <th>880026.0</th>\n",
       "      <td>2188</td>\n",
       "    </tr>\n",
       "  </tbody>\n",
       "</table>\n",
       "</div>"
      ],
      "text/plain": [
       "             calls_count\n",
       "operator_id             \n",
       "879896.0             816\n",
       "879898.0            7191\n",
       "880020.0              34\n",
       "880022.0             174\n",
       "880026.0            2188"
      ]
     },
     "execution_count": 47,
     "metadata": {},
     "output_type": "execute_result"
    }
   ],
   "source": [
    "pivot = (out_cc_data\n",
    "         .query('direction==\"out\" and internal==False')\n",
    "         .pivot_table(index='operator_id',\n",
    "                      values=['calls_count'],\n",
    "                      aggfunc='sum')\n",
    "        )\n",
    "pivot.columns=['calls_count']\n",
    "pivot.head()"
   ]
  },
  {
   "cell_type": "code",
   "execution_count": 48,
   "metadata": {},
   "outputs": [
    {
     "data": {
      "image/png": "[encoded data removed]",
      "text/plain": [
       "<Figure size 936x432 with 1 Axes>"
      ]
     },
     "metadata": {
      "needs_background": "light"
     },
     "output_type": "display_data"
    }
   ],
   "source": [
    "mean_calls_count = round(pivot['calls_count'].mean())\n",
    "median_calls_count = round(pivot['calls_count'].median())\n",
    "\n",
    "fig, ax = plt.subplots()\n",
    "\n",
    "pivot['calls_count'].hist(bins=100)\n",
    "\n",
    "ax.text(2000, 150, f'Среднее количество звонков на одного оператора: {mean_calls_count}', fontsize = 16)\n",
    "ax.text(2000, 120, f'Медианное количество звонков на одного оператора: {median_calls_count}', fontsize = 16)\n",
    "ax.set_title('Распределение операторов колличеству исходящих звонков', fontsize = 14)\n",
    "ax.set_xlabel('Колличество исходящих звонков', fontsize = 14)\n",
    "ax.set_ylabel('Колличество операторов', fontsize = 14)\n",
    "fig.set_figwidth(13)\n",
    "fig.set_figheight(6)\n",
    "\n",
    "plt.show()"
   ]
  },
  {
   "cell_type": "markdown",
   "metadata": {},
   "source": [
    "Данная гистограмма показывает, сколько внешних звонков за указанный временной период совершают операторы, а точнее, распределение этой величины между операторами. Руководитель операторов, глядя на распределение, величину среднего сам принимает решение, какое колличество звонков является критичным и может посмотреть операторов, которые совершили звонков меньше указанной величины.\n",
    "\n",
    "Например, можно получить id операторов, для которых за рассматриваемый промежуток времени совершенных внешних звонков меньше 100:"
   ]
  },
  {
   "cell_type": "code",
   "execution_count": 49,
   "metadata": {},
   "outputs": [
    {
     "data": {
      "text/plain": [
       "Float64Index([880020.0, 880240.0, 881278.0, 882688.0, 883018.0, 883898.0, 884402.0, 884408.0, 885682.0, 886146.0,\n",
       "              ...\n",
       "              970244.0, 970250.0, 970252.0, 970254.0, 970258.0, 972408.0, 972410.0, 972412.0, 972460.0, 973120.0], dtype='float64', name='operator_id', length=231)"
      ]
     },
     "execution_count": 49,
     "metadata": {},
     "output_type": "execute_result"
    }
   ],
   "source": [
    "pivot.query('calls_count < 100').index"
   ]
  },
  {
   "cell_type": "markdown",
   "metadata": {},
   "source": [
    "### Вывод по определению неэффективных операторв\n",
    "\n",
    "Проведенный анализ показал, что рассматриваемые критерии эффективности позволяют оценивать работу операторов. Функционал оценки рекомендован к внедрению в ПО клиентов. Руководители кол-центров смогут видеть как распределены их сотрудники по показателю эффективности и, задавая предельные значения, выбирать конкретных операторов, чьи показатели не соответствуют данным предельным значениям."
   ]
  },
  {
   "cell_type": "markdown",
   "metadata": {},
   "source": [
    "## Проверка статистических гипотез\n",
    "\n",
    "### Время разговора при входящих и исходящих звонках\n",
    "\n",
    "**Введем нулевую и альтернативные гипотезы**:\n",
    "\n",
    "* **Нулевая гипотеза:**  Среднее время разговора у всех КЦ, без разделения на специализацию при входящих и исходящих звоках **НЕ отличается**\n",
    "* **Альтернативная гипотеза:**  Среднее время разговора у всех КЦ, без разделения на специализацию при входящих и исходящих звоках **различается**\n",
    "\n",
    "Уровень значимости: $\\alpha = 0.05$\n",
    "\n",
    "Рассчитаем p-value. Если p-value будет меньше выбранного уровня значимости ($\\alpha = 0.05$), то будут основания отвергнуть нулевую гипотезу в пользу альтернативной. Иначе сделаем вывод, что данные не позволили нам отвергнуть нулевую гипотезу.\n",
    "\n",
    "Рассчитываем средние продолжительности входящих и исходящих разговоров по каждому КЦ"
   ]
  },
  {
   "cell_type": "code",
   "execution_count": 50,
   "metadata": {},
   "outputs": [
    {
     "data": {
      "text/html": [
       "<div>\n",
       "<style scoped>\n",
       "    .dataframe tbody tr th:only-of-type {\n",
       "        vertical-align: middle;\n",
       "    }\n",
       "\n",
       "    .dataframe tbody tr th {\n",
       "        vertical-align: top;\n",
       "    }\n",
       "\n",
       "    .dataframe thead th {\n",
       "        text-align: right;\n",
       "    }\n",
       "</style>\n",
       "<table border=\"1\" class=\"dataframe\">\n",
       "  <thead>\n",
       "    <tr style=\"text-align: right;\">\n",
       "      <th></th>\n",
       "      <th>mean_in_call_duration</th>\n",
       "      <th>mean_out_call_duration</th>\n",
       "    </tr>\n",
       "    <tr>\n",
       "      <th>user_id</th>\n",
       "      <th></th>\n",
       "      <th></th>\n",
       "    </tr>\n",
       "  </thead>\n",
       "  <tbody>\n",
       "    <tr>\n",
       "      <th>166377</th>\n",
       "      <td>100.486486</td>\n",
       "      <td>34.509641</td>\n",
       "    </tr>\n",
       "    <tr>\n",
       "      <th>166391</th>\n",
       "      <td>52.000000</td>\n",
       "      <td>0.000000</td>\n",
       "    </tr>\n",
       "    <tr>\n",
       "      <th>166392</th>\n",
       "      <td>184.076596</td>\n",
       "      <td>0.000000</td>\n",
       "    </tr>\n",
       "    <tr>\n",
       "      <th>166399</th>\n",
       "      <td>18.444444</td>\n",
       "      <td>0.000000</td>\n",
       "    </tr>\n",
       "    <tr>\n",
       "      <th>166405</th>\n",
       "      <td>98.274830</td>\n",
       "      <td>45.213267</td>\n",
       "    </tr>\n",
       "  </tbody>\n",
       "</table>\n",
       "</div>"
      ],
      "text/plain": [
       "         mean_in_call_duration  mean_out_call_duration\n",
       "user_id                                               \n",
       "166377              100.486486               34.509641\n",
       "166391               52.000000                0.000000\n",
       "166392              184.076596                0.000000\n",
       "166399               18.444444                0.000000\n",
       "166405               98.274830               45.213267"
      ]
     },
     "execution_count": 50,
     "metadata": {},
     "output_type": "execute_result"
    }
   ],
   "source": [
    "pivot = (data\n",
    "         .pivot_table(index='user_id',\n",
    "                 columns='direction',\n",
    "                 values='call_duration',\n",
    "                 aggfunc='mean')\n",
    "        )\n",
    "pivot.columns=['mean_in_call_duration', 'mean_out_call_duration']\n",
    "pivot = pivot.fillna(0)\n",
    "pivot.head()"
   ]
  },
  {
   "cell_type": "code",
   "execution_count": 51,
   "metadata": {},
   "outputs": [
    {
     "name": "stdout",
     "output_type": "stream",
     "text": [
      "p-value: 0.000000\n",
      "Имеются основания отвергнуть нулевую гипотезу\n",
      "Отличие средних продолжительностей входящих и исходящих разговоров 128.87 %\n"
     ]
    }
   ],
   "source": [
    "alpha=0.05\n",
    "\n",
    "results = st.mannwhitneyu(\n",
    "    pivot['mean_in_call_duration'],\n",
    "    pivot['mean_out_call_duration'],\n",
    "    alternative='two-sided')[1]\n",
    "\n",
    "print('p-value:', '{0:.6f}'.format(results))\n",
    "\n",
    "if (results < alpha):\n",
    "    print('Имеются основания отвергнуть нулевую гипотезу')\n",
    "else:\n",
    "    print('Недостаточно оснований, чтобы отвергунть нулевую гипотезу')\n",
    "    \n",
    "print('Отличие средних продолжительностей входящих и исходящих разговоров',\n",
    "      '{0:.2f}'.format((pivot['mean_in_call_duration'].mean() /\n",
    "                        pivot['mean_out_call_duration'].mean() - 1) * 100), '%')"
   ]
  },
  {
   "cell_type": "markdown",
   "metadata": {},
   "source": [
    "### Количество звонков на одного оператора\n",
    "\n",
    "У КЦ, специализирущихся на входящих звонках, количество внутренних звонков, приходящихся на одного оператора в день отличается от количества внешних звонков, приходящихся на одного оператора в день.\n",
    "\n",
    "**Введем нулевую и альтернативные гипотезы**:\n",
    "\n",
    "* **Нулевая гипотеза:**  Количество внутренних звонков, приходящихся на одного оператора у КЦ, специализирущихся на входящих звонках **НЕ отличается** от количества внешних звонков\n",
    "* **Альтернативная гипотеза:**  Количество внутренних звонков, приходящихся на одного оператора у КЦ, специализирущихся на входящих звонках **отличается** от количества внешних звонков\n",
    "\n",
    "Уровень значимости: $\\alpha = 0.05$\n",
    "\n",
    "Рассчитаем p-value. Если p-value будет меньше выбранного уровня значимости ($\\alpha = 0.05$), то будут основания отвергнуть нулевую гипотезу в пользу альтернативной. Иначе сделаем вывод, что данные не позволили нам отвергнуть нулевую гипотезу.\n",
    "\n",
    "Рассчитываем средние продолжительности входящих и исходящих разговоров по каждому КЦ"
   ]
  },
  {
   "cell_type": "code",
   "execution_count": 52,
   "metadata": {},
   "outputs": [
    {
     "data": {
      "text/html": [
       "<div>\n",
       "<style scoped>\n",
       "    .dataframe tbody tr th:only-of-type {\n",
       "        vertical-align: middle;\n",
       "    }\n",
       "\n",
       "    .dataframe tbody tr th {\n",
       "        vertical-align: top;\n",
       "    }\n",
       "\n",
       "    .dataframe thead th {\n",
       "        text-align: right;\n",
       "    }\n",
       "</style>\n",
       "<table border=\"1\" class=\"dataframe\">\n",
       "  <thead>\n",
       "    <tr style=\"text-align: right;\">\n",
       "      <th></th>\n",
       "      <th>external_cals_count</th>\n",
       "      <th>internal_cals_count</th>\n",
       "    </tr>\n",
       "    <tr>\n",
       "      <th>operator_id</th>\n",
       "      <th></th>\n",
       "      <th></th>\n",
       "    </tr>\n",
       "  </thead>\n",
       "  <tbody>\n",
       "    <tr>\n",
       "      <th>882476.0</th>\n",
       "      <td>3.0</td>\n",
       "      <td>0.0</td>\n",
       "    </tr>\n",
       "    <tr>\n",
       "      <th>882478.0</th>\n",
       "      <td>1.0</td>\n",
       "      <td>3.0</td>\n",
       "    </tr>\n",
       "    <tr>\n",
       "      <th>882680.0</th>\n",
       "      <td>97.0</td>\n",
       "      <td>2.0</td>\n",
       "    </tr>\n",
       "    <tr>\n",
       "      <th>884294.0</th>\n",
       "      <td>1.0</td>\n",
       "      <td>0.0</td>\n",
       "    </tr>\n",
       "    <tr>\n",
       "      <th>886674.0</th>\n",
       "      <td>11.0</td>\n",
       "      <td>0.0</td>\n",
       "    </tr>\n",
       "  </tbody>\n",
       "</table>\n",
       "</div>"
      ],
      "text/plain": [
       "             external_cals_count  internal_cals_count\n",
       "operator_id                                          \n",
       "882476.0                     3.0                  0.0\n",
       "882478.0                     1.0                  3.0\n",
       "882680.0                    97.0                  2.0\n",
       "884294.0                     1.0                  0.0\n",
       "886674.0                    11.0                  0.0"
      ]
     },
     "execution_count": 52,
     "metadata": {},
     "output_type": "execute_result"
    }
   ],
   "source": [
    "pivot = (in_cc_data\n",
    "         .pivot_table(index='operator_id',\n",
    "                 columns='internal',\n",
    "                 values='calls_count',\n",
    "                 aggfunc='sum')\n",
    "        )\n",
    "pivot.columns=['external_cals_count', 'internal_cals_count']\n",
    "pivot = pivot.fillna(0)\n",
    "pivot.head()"
   ]
  },
  {
   "cell_type": "code",
   "execution_count": 53,
   "metadata": {},
   "outputs": [
    {
     "name": "stdout",
     "output_type": "stream",
     "text": [
      "p-value: 0.000000\n",
      "Имеются основания отвергнуть нулевую гипотезу\n",
      "Отличие среднего количества внутренних и внешних звонков 1976.26 %\n"
     ]
    }
   ],
   "source": [
    "alpha=0.05\n",
    "\n",
    "results = st.mannwhitneyu(\n",
    "    pivot['external_cals_count'],\n",
    "    pivot['internal_cals_count'],\n",
    "    alternative='two-sided')[1]\n",
    "\n",
    "print('p-value:', '{0:.6f}'.format(results))\n",
    "\n",
    "if (results < alpha):\n",
    "    print('Имеются основания отвергнуть нулевую гипотезу')\n",
    "else:\n",
    "    print('Недостаточно оснований, чтобы отвергунть нулевую гипотезу')\n",
    "    \n",
    "print('Отличие среднего количества внутренних и внешних звонков',\n",
    "      '{0:.2f}'.format((pivot['external_cals_count'].mean() /\n",
    "                        pivot['internal_cals_count'].mean() - 1) * 100), '%')"
   ]
  },
  {
   "cell_type": "markdown",
   "metadata": {},
   "source": [
    "## Общий вывод\n",
    "\n",
    "1. Провели первичный анализ данных\n",
    "\n",
    "  * Из таблицы data удалили явные дубликаты, строки с отсутствующим значением в колонке internal.\n",
    "  * Поэтому удалим те строки, в которых количество звонков в день больше 200 и все эти вызовы не являются пропущенными\n",
    "  * Проведя анализ имеющихся данных, пришли к выводу, что часть числовых значений с высокой долей вероятности указана в секундах. Все данные привели к минутам.\n",
    "  * Приняли решение удалить данные с пропущенным значение м operator_id, принимая во внимание то, как изменились агрегированные параметры датасета\n",
    "\n",
    "\n",
    "2. Определили неэффективных операторов\n",
    " \n",
    "  * Разделили кол-центров по специализации. \n",
    "    К кол-центрам, обзванивающим клиентов отнесены те, доля исходящих звонков которых превышает 75%.\n",
    "    К кол-центрам, принимающим звонки отнесены те, доля входящих звонков которых превышает 75% \n",
    "  \n",
    "  * Рассмотрели операторов кол-центорв по критериям эффективности и определили\n",
    "\n",
    "    - id операторов, которые за рассматриваемый промежуток времени пропустили более 20% входящих звонков;\n",
    "    - id операторов, для которых за рассматриваемый промежуток времени среднее время ожидания превышает 3 минуты;\n",
    "    - id операторов, для которых за рассматриваемый промежуток времени совершили внешних звонков меньше 100\n",
    "\n",
    "\n",
    "3. Провели проверку статистических гипотез и доказали статистическими методами что\n",
    "\n",
    "  * Среднее время разговора у всех КЦ, без разделения на специализацию при входящих и исходящих звоках различается;\n",
    "  * Количество внутренних звонков, приходящихся на одного оператора у КЦ, специализирущихся на входящих звонках отличается от количества внешних звонков\n",
    "\n",
    "\n",
    "Проделанная работа показывает, что дифференциация операторов по критериям эффективности полезна и наглядна. Подобный инструмент поможет руководителям колл-центров не только выделить лучших и отстающих операторв, но и отслеживать изменение критериев эффективности во времени и оценивать эффективность внедрения стимулирующих механизмов."
   ]
  }
 ],
 "metadata": {
  "kernelspec": {
   "display_name": "Python 3",
   "language": "python",
   "name": "python3"
  },
  "language_info": {
   "codemirror_mode": {
    "name": "ipython",
    "version": 3
   },
   "file_extension": ".py",
   "mimetype": "text/x-python",
   "name": "python",
   "nbconvert_exporter": "python",
   "pygments_lexer": "ipython3",
   "version": "3.7.3"
  },
  "toc": {
   "base_numbering": 1,
   "nav_menu": {},
   "number_sections": true,
   "sideBar": true,
   "skip_h1_title": true,
   "title_cell": "Table of Contents",
   "title_sidebar": "Contents",
   "toc_cell": true,
   "toc_position": {
    "height": "calc(100% - 180px)",
    "left": "10px",
    "top": "150px",
    "width": "308px"
   },
   "toc_section_display": true,
   "toc_window_display": true
  }
 },
 "nbformat": 4,
 "nbformat_minor": 2
}
